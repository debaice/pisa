{
 "metadata": {
  "name": ""
 },
 "nbformat": 3,
 "nbformat_minor": 0,
 "worksheets": [
  {
   "cells": [
    {
     "cell_type": "markdown",
     "metadata": {},
     "source": [
      "This basic example demonstrates how to run the Fisher analysis interactively and extract the mass hierarchy significance from the results."
     ]
    },
    {
     "cell_type": "code",
     "collapsed": false,
     "input": [
      "from pisa.analysis.fisher.Fisher import FisherMatrix\n",
      "from pisa.analysis.fisher.FisherAnalysis import get_fisher_matrices\n",
      "from pisa.utils.jsons import from_json"
     ],
     "language": "python",
     "metadata": {},
     "outputs": [],
     "prompt_number": 1
    },
    {
     "cell_type": "markdown",
     "metadata": {},
     "source": [
      "Load template settings and grid settings from a file:"
     ]
    },
    {
     "cell_type": "code",
     "collapsed": false,
     "input": [
      "model_settings = from_json(\"/home/debanjan/pisa/pisa/pisa/resources/settings/template_settings/V36_LoI_8syst_e39_cz20.json\")\n",
      "grid_settings = from_json(\"/home/debanjan/pisa/pisa/pisa/resources/settings/grid_settings/grid_settings_fisher.json\")"
     ],
     "language": "python",
     "metadata": {},
     "outputs": [],
     "prompt_number": 2
    },
    {
     "cell_type": "markdown",
     "metadata": {},
     "source": [
      "Run Fisher analysis chain for IMH, given the settings specified above:"
     ]
    },
    {
     "cell_type": "code",
     "collapsed": false,
     "input": [
      "fisher = get_fisher_matrices(model_settings, grid_settings, IMH=False, NMH=True)"
     ],
     "language": "python",
     "metadata": {},
     "outputs": [
      {
       "output_type": "stream",
       "stream": "stdout",
       "text": [
        "[    INFO] start initializing\n"
       ]
      },
      {
       "output_type": "stream",
       "stream": "stdout",
       "text": [
        "{'prop_height': 20.0, 'earth_model': 'oscillations/PREM_12layer.dat', 'detector_depth': 2.0, 'osc_precision': 0.0005}\n",
        "[    INFO] stop initializing\n",
        "\n"
       ]
      },
      {
       "output_type": "stream",
       "stream": "stdout",
       "text": [
        "[    INFO] start template calculation\n"
       ]
      }
     ],
     "prompt_number": "*"
    },
    {
     "cell_type": "markdown",
     "metadata": {},
     "source": [
      "Print the mass hierarchy significances and impacts + uncertainties of the different systematics:"
     ]
    },
    {
     "cell_type": "code",
     "collapsed": false,
     "input": [
      "for data in fisher:\n",
      "    for channel in fisher[data]:\n",
      "        print \"%s, %s: hierarchy significance (sigma): %.2f \\n\"%(data,channel,1./fisher[data][channel].getSigma('hierarchy'))\n",
      "        fisher[data][channel].printResultsSorted('hierarchy',latex=False)\n",
      "        print \"\\n\""
     ],
     "language": "python",
     "metadata": {},
     "outputs": [
      {
       "output_type": "stream",
       "stream": "stdout",
       "text": [
        "IMH, comb: hierarchy significance (sigma): 4.51 \n",
        "\n",
        "      parameter     impact [%]      best fit          full          stat          syst        priors\n",
        "----------------------------------------------------------------------------------------------------\n",
        "      hierarchy          100.0     1.000e+00     2.215e-01     1.500e-01     1.630e-01     free\n",
        "       deltam31           35.0     2.460e-03     3.599e-05     1.174e-05     3.402e-05     free\n",
        "   energy_scale           23.4     1.000e+00     9.761e-03     5.491e-04     9.793e-03     1.000e-01\n",
        "     aeff_scale           21.8     1.000e+00     2.529e-02     1.173e-03     2.527e-02     free\n",
        "atm_delta_index            6.4     0.000e+00     2.982e-03     1.030e-03     2.804e-03     5.000e-02\n",
        " nu_nubar_ratio            3.7     1.000e+00     9.738e-02     7.040e-03     4.278e-01     1.000e-01\n",
        "        theta13            2.9     1.484e-01     3.476e-03     9.073e-03     3.720e-02     3.491e-03\n",
        " nue_numu_ratio            1.2     1.000e+00     1.262e-02     7.583e-03     1.167e-02     3.000e-02\n",
        "\n",
        "\n",
        "IMH, trck: hierarchy significance (sigma): 1.72 \n",
        "\n",
        "      parameter     impact [%]      best fit          full          stat          syst        priors\n",
        "----------------------------------------------------------------------------------------------------\n",
        "      hierarchy          100.0     1.000e+00     5.829e-01     2.439e-01     5.294e-01     free\n",
        "       deltam31           58.5     2.460e-03     5.601e-05     1.237e-05     5.463e-05     free\n",
        "atm_delta_index           25.1     0.000e+00     3.753e-03     1.282e-03     3.538e-03     5.000e-02\n",
        "   energy_scale           20.2     1.000e+00     1.327e-02     1.087e-03     1.334e-02     1.000e-01\n",
        "     aeff_scale           13.4     1.000e+00     3.179e-02     2.316e-03     3.170e-02     free\n",
        " nu_nubar_ratio            1.5     1.000e+00     9.855e-02     1.417e-02     5.804e-01     1.000e-01\n",
        "        theta13            1.2     1.484e-01     3.490e-03     1.045e-02     1.470e-01     3.491e-03\n",
        " nue_numu_ratio            0.6     1.000e+00     2.321e-02     1.893e-02     3.138e-02     3.000e-02\n",
        "\n",
        "\n",
        "IMH, cscd: hierarchy significance (sigma): 3.78 \n",
        "\n",
        "      parameter     impact [%]      best fit          full          stat          syst        priors\n",
        "----------------------------------------------------------------------------------------------------\n",
        "      hierarchy          100.0     1.000e+00     2.643e-01     1.902e-01     1.835e-01     free\n",
        " nue_numu_ratio           15.0     1.000e+00     2.577e-02     8.275e-03     4.963e-02     3.000e-02\n",
        "       deltam31           11.3     2.460e-03     7.501e-05     3.725e-05     6.511e-05     free\n",
        "     aeff_scale            6.8     1.000e+00     4.655e-02     1.360e-03     4.654e-02     free\n",
        "   energy_scale            5.6     1.000e+00     2.439e-02     6.363e-04     2.515e-02     1.000e-01\n",
        " nu_nubar_ratio            1.6     1.000e+00     9.948e-02     8.112e-03     9.775e-01     1.000e-01\n",
        "        theta13            1.5     1.484e-01     3.485e-03     1.828e-02     5.990e-02     3.491e-03\n",
        "atm_delta_index            0.0     0.000e+00     1.127e-02     1.730e-03     1.144e-02     5.000e-02\n",
        "\n",
        "\n"
       ]
      }
     ],
     "prompt_number": 61
    },
    {
     "cell_type": "markdown",
     "metadata": {},
     "source": [
      "For .json files containing Fisher matrices, create Fisher matrix objects via the built-in method FisherMatrix.fromFile(\"/path/to/Fisher/matrix/file\") and proceed as shown above."
     ]
    },
    {
     "cell_type": "code",
     "collapsed": false,
     "input": [],
     "language": "python",
     "metadata": {},
     "outputs": []
    }
   ],
   "metadata": {}
  }
 ]
}