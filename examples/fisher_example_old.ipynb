{
 "metadata": {
  "name": ""
 },
 "nbformat": 3,
 "nbformat_minor": 0,
 "worksheets": [
  {
   "cells": [
    {
     "cell_type": "markdown",
     "metadata": {},
     "source": [
      "This basic example demonstrates how to run the Fisher analysis interactively and extract the mass hierarchy significance from the results."
     ]
    },
    {
     "cell_type": "code",
     "collapsed": false,
     "input": [
      "from pisa.analysis.fisher.Fisher import FisherMatrix\n",
      "from pisa.analysis.fisher.FisherAnalysis import get_fisher_matrices\n",
      "from pisa.utils.jsons import from_json"
     ],
     "language": "python",
     "metadata": {},
     "outputs": [],
     "prompt_number": 1
    },
    {
     "cell_type": "markdown",
     "metadata": {},
     "source": [
      "Load template settings and grid settings from a file:"
     ]
    },
    {
     "cell_type": "code",
     "collapsed": false,
     "input": [],
     "language": "python",
     "metadata": {},
     "outputs": [],
     "prompt_number": 1
    },
    {
     "cell_type": "code",
     "collapsed": false,
     "input": [
      "model_settings = from_json(\"/home/debanjan/pisa/pisa/pisa/resources/settings/template_settings/V36_par_7syst_e39_cz20.json\")\n",
      "grid_settings = from_json(\"/home/debanjan/pisa/pisa/pisa/resources/settings/grid_settings/grid_settings_fisher.json\")"
     ],
     "language": "python",
     "metadata": {},
     "outputs": [],
     "prompt_number": 2
    },
    {
     "cell_type": "markdown",
     "metadata": {},
     "source": [
      "Run Fisher analysis chain for IMH, given the settings specified above:"
     ]
    },
    {
     "cell_type": "code",
     "collapsed": false,
     "input": [
      "fisher = get_fisher_matrices(model_settings, grid_settings, IMH=True, NMH=False)"
     ],
     "language": "python",
     "metadata": {},
     "outputs": [
      {
       "output_type": "stream",
       "stream": "stdout",
       "text": [
        "[    INFO] start initializing\n"
       ]
      },
      {
       "output_type": "stream",
       "stream": "stdout",
       "text": [
        "[    INFO] stop initializing\n",
        "\n"
       ]
      },
      {
       "output_type": "stream",
       "stream": "stdout",
       "text": [
        "[    INFO] start template calculation\n"
       ]
      },
      {
       "output_type": "stream",
       "stream": "stdout",
       "text": [
        "[    INFO] start oscillation calculation\n"
       ]
      },
      {
       "output_type": "stream",
       "stream": "stdout",
       "text": [
        "[    INFO] stop oscillation calculation\n"
       ]
      },
      {
       "output_type": "stream",
       "stream": "stdout",
       "text": [
        "       ==> elapsed time to get all fine maps: 3.1468629837 sec\n",
        "[    INFO] ==> elapsed time for template: 3.49928402901 sec\n"
       ]
      },
      {
       "output_type": "stream",
       "stream": "stdout",
       "text": [
        "[    INFO] start template calculation\n"
       ]
      },
      {
       "output_type": "stream",
       "stream": "stdout",
       "text": [
        "[    INFO] start oscillation calculation\n"
       ]
      },
      {
       "output_type": "stream",
       "stream": "stdout",
       "text": [
        "[    INFO] stop oscillation calculation\n"
       ]
      },
      {
       "output_type": "stream",
       "stream": "stdout",
       "text": [
        "       ==> elapsed time to get all fine maps: 3.15732598305 sec\n",
        "[    INFO] ==> elapsed time for template: 3.49476313591 sec\n"
       ]
      },
      {
       "output_type": "stream",
       "stream": "stdout",
       "text": [
        "[    INFO] start oscillation calculation\n"
       ]
      },
      {
       "output_type": "stream",
       "stream": "stdout",
       "text": [
        "[    INFO] stop oscillation calculation\n"
       ]
      },
      {
       "output_type": "stream",
       "stream": "stdout",
       "text": [
        "       ==> elapsed time to get all fine maps: 3.26164698601 sec\n",
        "[    INFO] ==> elapsed time for template: 3.65402913094 sec\n"
       ]
      },
      {
       "output_type": "stream",
       "stream": "stdout",
       "text": [
        "[    INFO] start oscillation calculation\n"
       ]
      },
      {
       "output_type": "stream",
       "stream": "stdout",
       "text": [
        "[    INFO] stop oscillation calculation\n"
       ]
      },
      {
       "output_type": "stream",
       "stream": "stdout",
       "text": [
        "       ==> elapsed time to get all fine maps: 3.17443704605 sec\n",
        "[    INFO] ==> elapsed time for template: 3.62486791611 sec\n"
       ]
      },
      {
       "output_type": "stream",
       "stream": "stdout",
       "text": [
        "[    INFO] start oscillation calculation\n"
       ]
      },
      {
       "output_type": "stream",
       "stream": "stdout",
       "text": [
        "[    INFO] stop oscillation calculation\n"
       ]
      },
      {
       "output_type": "stream",
       "stream": "stdout",
       "text": [
        "       ==> elapsed time to get all fine maps: 3.18682384491 sec\n",
        "[    INFO] ==> elapsed time for template: 3.63233804703 sec\n"
       ]
      },
      {
       "output_type": "stream",
       "stream": "stdout",
       "text": [
        "[    INFO] start oscillation calculation\n"
       ]
      },
      {
       "output_type": "stream",
       "stream": "stdout",
       "text": [
        "[    INFO] stop oscillation calculation\n"
       ]
      },
      {
       "output_type": "stream",
       "stream": "stdout",
       "text": [
        "       ==> elapsed time to get all fine maps: 3.17991685867 sec\n",
        "[    INFO] ==> elapsed time for template: 3.615639925 sec\n"
       ]
      },
      {
       "output_type": "stream",
       "stream": "stdout",
       "text": [
        "[    INFO] start oscillation calculation\n"
       ]
      },
      {
       "output_type": "stream",
       "stream": "stdout",
       "text": [
        "[    INFO] stop oscillation calculation\n"
       ]
      },
      {
       "output_type": "stream",
       "stream": "stdout",
       "text": [
        "       ==> elapsed time to get all fine maps: 3.18690395355 sec\n",
        "[    INFO] ==> elapsed time for template: 3.62858295441 sec\n"
       ]
      },
      {
       "output_type": "stream",
       "stream": "stdout",
       "text": [
        "[    INFO] start oscillation calculation\n"
       ]
      },
      {
       "output_type": "stream",
       "stream": "stdout",
       "text": [
        "[    INFO] stop oscillation calculation\n"
       ]
      },
      {
       "output_type": "stream",
       "stream": "stdout",
       "text": [
        "       ==> elapsed time to get all fine maps: 3.3294479847 sec\n",
        "[    INFO] ==> elapsed time for template: 3.87676310539 sec\n"
       ]
      },
      {
       "output_type": "stream",
       "stream": "stdout",
       "text": [
        "[    INFO] start oscillation calculation\n"
       ]
      },
      {
       "output_type": "stream",
       "stream": "stdout",
       "text": [
        "[    INFO] stop oscillation calculation\n"
       ]
      },
      {
       "output_type": "stream",
       "stream": "stdout",
       "text": [
        "       ==> elapsed time to get all fine maps: 3.40343904495 sec\n",
        "[    INFO] ==> elapsed time for template: 3.84700989723 sec\n"
       ]
      },
      {
       "output_type": "stream",
       "stream": "stdout",
       "text": [
        "[    INFO] start oscillation calculation\n"
       ]
      },
      {
       "output_type": "stream",
       "stream": "stdout",
       "text": [
        "[    INFO] stop oscillation calculation\n"
       ]
      },
      {
       "output_type": "stream",
       "stream": "stdout",
       "text": [
        "       ==> elapsed time to get all fine maps: 3.3377790451 sec\n",
        "[    INFO] ==> elapsed time for template: 3.85750794411 sec\n"
       ]
      },
      {
       "output_type": "stream",
       "stream": "stdout",
       "text": [
        "[    INFO] start oscillation calculation\n"
       ]
      },
      {
       "output_type": "stream",
       "stream": "stdout",
       "text": [
        "[    INFO] stop oscillation calculation\n"
       ]
      },
      {
       "output_type": "stream",
       "stream": "stdout",
       "text": [
        "       ==> elapsed time to get all fine maps: 3.58028697968 sec\n",
        "[    INFO] ==> elapsed time for template: 4.0414648056 sec\n"
       ]
      },
      {
       "output_type": "stream",
       "stream": "stdout",
       "text": [
        "[    INFO] start oscillation calculation\n"
       ]
      },
      {
       "output_type": "stream",
       "stream": "stdout",
       "text": [
        "[    INFO] stop oscillation calculation\n"
       ]
      },
      {
       "output_type": "stream",
       "stream": "stdout",
       "text": [
        "       ==> elapsed time to get all fine maps: 3.24344396591 sec\n",
        "[    INFO] ==> elapsed time for template: 3.69479298592 sec\n"
       ]
      },
      {
       "output_type": "stream",
       "stream": "stdout",
       "text": [
        "[    INFO] start oscillation calculation\n"
       ]
      },
      {
       "output_type": "stream",
       "stream": "stdout",
       "text": [
        "[    INFO] stop oscillation calculation\n"
       ]
      },
      {
       "output_type": "stream",
       "stream": "stdout",
       "text": [
        "       ==> elapsed time to get all fine maps: 3.18605613708 sec\n",
        "[    INFO] ==> elapsed time for template: 3.62456607819 sec\n"
       ]
      },
      {
       "output_type": "stream",
       "stream": "stdout",
       "text": [
        "[    INFO] start oscillation calculation\n"
       ]
      },
      {
       "output_type": "stream",
       "stream": "stdout",
       "text": [
        "[    INFO] stop oscillation calculation\n"
       ]
      },
      {
       "output_type": "stream",
       "stream": "stdout",
       "text": [
        "       ==> elapsed time to get all fine maps: 3.18089199066 sec\n",
        "[    INFO] ==> elapsed time for template: 3.61213302612 sec\n"
       ]
      },
      {
       "output_type": "stream",
       "stream": "stdout",
       "text": [
        "[    INFO] start oscillation calculation\n"
       ]
      },
      {
       "output_type": "stream",
       "stream": "stdout",
       "text": [
        "[    INFO] stop oscillation calculation\n"
       ]
      },
      {
       "output_type": "stream",
       "stream": "stdout",
       "text": [
        "       ==> elapsed time to get all fine maps: 3.1846370697 sec\n",
        "[    INFO] ==> elapsed time for template: 3.62162685394 sec\n"
       ]
      },
      {
       "output_type": "stream",
       "stream": "stdout",
       "text": [
        "[    INFO] start oscillation calculation\n"
       ]
      },
      {
       "output_type": "stream",
       "stream": "stdout",
       "text": [
        "[    INFO] stop oscillation calculation\n"
       ]
      },
      {
       "output_type": "stream",
       "stream": "stdout",
       "text": [
        "       ==> elapsed time to get all fine maps: 3.1891810894 sec\n",
        "[    INFO] ==> elapsed time for template: 3.61950516701 sec\n"
       ]
      },
      {
       "output_type": "stream",
       "stream": "stdout",
       "text": [
        "[    INFO] start oscillation calculation\n"
       ]
      },
      {
       "output_type": "stream",
       "stream": "stdout",
       "text": [
        "[    INFO] stop oscillation calculation\n"
       ]
      },
      {
       "output_type": "stream",
       "stream": "stdout",
       "text": [
        "       ==> elapsed time to get all fine maps: 3.17899990082 sec\n",
        "[    INFO] ==> elapsed time for template: 3.61483192444 sec\n"
       ]
      },
      {
       "output_type": "stream",
       "stream": "stdout",
       "text": [
        "[    INFO] start oscillation calculation\n"
       ]
      },
      {
       "output_type": "stream",
       "stream": "stdout",
       "text": [
        "[    INFO] stop oscillation calculation\n"
       ]
      },
      {
       "output_type": "stream",
       "stream": "stdout",
       "text": [
        "       ==> elapsed time to get all fine maps: 3.18711400032 sec\n",
        "[    INFO] ==> elapsed time for template: 3.61676311493 sec\n"
       ]
      },
      {
       "output_type": "stream",
       "stream": "stdout",
       "text": [
        "[    INFO] start oscillation calculation\n"
       ]
      },
      {
       "output_type": "stream",
       "stream": "stdout",
       "text": [
        "[    INFO] stop oscillation calculation\n"
       ]
      },
      {
       "output_type": "stream",
       "stream": "stdout",
       "text": [
        "       ==> elapsed time to get all fine maps: 3.19117498398 sec\n",
        "[    INFO] ==> elapsed time for template: 3.63223290443 sec\n"
       ]
      },
      {
       "output_type": "stream",
       "stream": "stdout",
       "text": [
        "[    INFO] start oscillation calculation\n"
       ]
      },
      {
       "output_type": "stream",
       "stream": "stdout",
       "text": [
        "[    INFO] stop oscillation calculation\n"
       ]
      },
      {
       "output_type": "stream",
       "stream": "stdout",
       "text": [
        "       ==> elapsed time to get all fine maps: 3.21361613274 sec\n",
        "[    INFO] ==> elapsed time for template: 3.66209292412 sec\n"
       ]
      },
      {
       "output_type": "stream",
       "stream": "stdout",
       "text": [
        "[    INFO] start oscillation calculation\n"
       ]
      },
      {
       "output_type": "stream",
       "stream": "stdout",
       "text": [
        "[    INFO] stop oscillation calculation\n"
       ]
      },
      {
       "output_type": "stream",
       "stream": "stdout",
       "text": [
        "       ==> elapsed time to get all fine maps: 3.33331108093 sec\n",
        "[    INFO] ==> elapsed time for template: 3.78024101257 sec\n"
       ]
      },
      {
       "output_type": "stream",
       "stream": "stdout",
       "text": [
        "[    INFO] start oscillation calculation\n"
       ]
      },
      {
       "output_type": "stream",
       "stream": "stdout",
       "text": [
        "[    INFO] stop oscillation calculation\n"
       ]
      },
      {
       "output_type": "stream",
       "stream": "stdout",
       "text": [
        "       ==> elapsed time to get all fine maps: 3.18868899345 sec\n",
        "[    INFO] ==> elapsed time for template: 3.6364030838 sec\n"
       ]
      },
      {
       "output_type": "stream",
       "stream": "stdout",
       "text": [
        "[    INFO] start oscillation calculation\n"
       ]
      },
      {
       "output_type": "stream",
       "stream": "stdout",
       "text": [
        "[    INFO] stop oscillation calculation\n"
       ]
      },
      {
       "output_type": "stream",
       "stream": "stdout",
       "text": [
        "       ==> elapsed time to get all fine maps: 3.20910906792 sec\n",
        "[    INFO] ==> elapsed time for template: 3.65409517288 sec\n"
       ]
      },
      {
       "output_type": "stream",
       "stream": "stdout",
       "text": [
        "[    INFO] start oscillation calculation\n"
       ]
      },
      {
       "output_type": "stream",
       "stream": "stdout",
       "text": [
        "[    INFO] stop oscillation calculation\n"
       ]
      },
      {
       "output_type": "stream",
       "stream": "stdout",
       "text": [
        "       ==> elapsed time to get all fine maps: 3.19290685654 sec\n",
        "[    INFO] ==> elapsed time for template: 3.63994193077 sec\n"
       ]
      },
      {
       "output_type": "stream",
       "stream": "stdout",
       "text": [
        "[    INFO] start oscillation calculation\n"
       ]
      },
      {
       "output_type": "stream",
       "stream": "stdout",
       "text": [
        "[    INFO] stop oscillation calculation\n"
       ]
      },
      {
       "output_type": "stream",
       "stream": "stdout",
       "text": [
        "       ==> elapsed time to get all fine maps: 3.18790197372 sec\n",
        "[    INFO] ==> elapsed time for template: 3.62947201729 sec\n"
       ]
      },
      {
       "output_type": "stream",
       "stream": "stdout",
       "text": [
        "[    INFO] start oscillation calculation\n"
       ]
      },
      {
       "output_type": "stream",
       "stream": "stdout",
       "text": [
        "[    INFO] stop oscillation calculation\n"
       ]
      },
      {
       "output_type": "stream",
       "stream": "stdout",
       "text": [
        "       ==> elapsed time to get all fine maps: 3.18024206161 sec\n",
        "[    INFO] ==> elapsed time for template: 3.61158514023 sec\n"
       ]
      },
      {
       "output_type": "stream",
       "stream": "stdout",
       "text": [
        "[    INFO] start oscillation calculation\n"
       ]
      },
      {
       "output_type": "stream",
       "stream": "stdout",
       "text": [
        "[    INFO] stop oscillation calculation\n"
       ]
      },
      {
       "output_type": "stream",
       "stream": "stdout",
       "text": [
        "       ==> elapsed time to get all fine maps: 3.18254709244 sec\n",
        "[    INFO] ==> elapsed time for template: 3.62075400352 sec\n"
       ]
      },
      {
       "output_type": "stream",
       "stream": "stdout",
       "text": [
        "[    INFO] start oscillation calculation\n"
       ]
      },
      {
       "output_type": "stream",
       "stream": "stdout",
       "text": [
        "[    INFO] stop oscillation calculation\n"
       ]
      },
      {
       "output_type": "stream",
       "stream": "stdout",
       "text": [
        "       ==> elapsed time to get all fine maps: 3.21138715744 sec\n",
        "[    INFO] ==> elapsed time for template: 3.64625597 sec\n"
       ]
      },
      {
       "output_type": "stream",
       "stream": "stdout",
       "text": [
        "[    INFO] start oscillation calculation\n"
       ]
      },
      {
       "output_type": "stream",
       "stream": "stdout",
       "text": [
        "[    INFO] stop oscillation calculation\n"
       ]
      },
      {
       "output_type": "stream",
       "stream": "stdout",
       "text": [
        "       ==> elapsed time to get all fine maps: 3.20680403709 sec\n",
        "[    INFO] ==> elapsed time for template: 3.66026210785 sec\n"
       ]
      },
      {
       "output_type": "stream",
       "stream": "stdout",
       "text": [
        "[    INFO] start oscillation calculation\n"
       ]
      },
      {
       "output_type": "stream",
       "stream": "stdout",
       "text": [
        "[    INFO] stop oscillation calculation\n"
       ]
      },
      {
       "output_type": "stream",
       "stream": "stdout",
       "text": [
        "       ==> elapsed time to get all fine maps: 3.2588300705 sec\n",
        "[    INFO] ==> elapsed time for template: 3.7074201107 sec\n"
       ]
      },
      {
       "output_type": "stream",
       "stream": "stdout",
       "text": [
        "[    INFO] start oscillation calculation\n"
       ]
      },
      {
       "output_type": "stream",
       "stream": "stdout",
       "text": [
        "[    INFO] stop oscillation calculation\n"
       ]
      },
      {
       "output_type": "stream",
       "stream": "stdout",
       "text": [
        "       ==> elapsed time to get all fine maps: 3.22445201874 sec\n",
        "[    INFO] ==> elapsed time for template: 3.65831303596 sec\n"
       ]
      },
      {
       "output_type": "stream",
       "stream": "stdout",
       "text": [
        "[    INFO] start oscillation calculation\n"
       ]
      },
      {
       "output_type": "stream",
       "stream": "stdout",
       "text": [
        "[    INFO] stop oscillation calculation\n"
       ]
      },
      {
       "output_type": "stream",
       "stream": "stdout",
       "text": [
        "       ==> elapsed time to get all fine maps: 3.18517804146 sec\n",
        "[    INFO] ==> elapsed time for template: 3.62532281876 sec\n"
       ]
      },
      {
       "output_type": "stream",
       "stream": "stdout",
       "text": [
        "[    INFO] start oscillation calculation\n"
       ]
      },
      {
       "output_type": "stream",
       "stream": "stdout",
       "text": [
        "[    INFO] stop oscillation calculation\n"
       ]
      },
      {
       "output_type": "stream",
       "stream": "stdout",
       "text": [
        "       ==> elapsed time to get all fine maps: 3.18771600723 sec\n",
        "[    INFO] ==> elapsed time for template: 3.61626696587 sec\n"
       ]
      },
      {
       "output_type": "stream",
       "stream": "stdout",
       "text": [
        "[    INFO] start oscillation calculation\n"
       ]
      },
      {
       "output_type": "stream",
       "stream": "stdout",
       "text": [
        "[    INFO] stop oscillation calculation\n"
       ]
      },
      {
       "output_type": "stream",
       "stream": "stdout",
       "text": [
        "       ==> elapsed time to get all fine maps: 3.21324586868 sec\n",
        "[    INFO] ==> elapsed time for template: 3.64375185966 sec\n"
       ]
      },
      {
       "output_type": "stream",
       "stream": "stdout",
       "text": [
        "[    INFO] start oscillation calculation\n"
       ]
      },
      {
       "output_type": "stream",
       "stream": "stdout",
       "text": [
        "[    INFO] stop oscillation calculation\n"
       ]
      },
      {
       "output_type": "stream",
       "stream": "stdout",
       "text": [
        "       ==> elapsed time to get all fine maps: 3.18123602867 sec\n",
        "[    INFO] ==> elapsed time for template: 3.61175394058 sec\n"
       ]
      },
      {
       "output_type": "stream",
       "stream": "stdout",
       "text": [
        "[    INFO] start oscillation calculation\n"
       ]
      },
      {
       "output_type": "stream",
       "stream": "stdout",
       "text": [
        "[    INFO] stop oscillation calculation\n"
       ]
      },
      {
       "output_type": "stream",
       "stream": "stdout",
       "text": [
        "       ==> elapsed time to get all fine maps: 3.20253419876 sec\n",
        "[    INFO] ==> elapsed time for template: 3.64260697365 sec\n"
       ]
      },
      {
       "output_type": "stream",
       "stream": "stdout",
       "text": [
        "[    INFO] start oscillation calculation\n"
       ]
      },
      {
       "output_type": "stream",
       "stream": "stdout",
       "text": [
        "[    INFO] stop oscillation calculation\n"
       ]
      },
      {
       "output_type": "stream",
       "stream": "stdout",
       "text": [
        "       ==> elapsed time to get all fine maps: 3.19712710381 sec\n",
        "[    INFO] ==> elapsed time for template: 3.62369894981 sec\n"
       ]
      },
      {
       "output_type": "stream",
       "stream": "stdout",
       "text": [
        "[    INFO] start oscillation calculation\n"
       ]
      },
      {
       "output_type": "stream",
       "stream": "stdout",
       "text": [
        "[    INFO] stop oscillation calculation\n"
       ]
      },
      {
       "output_type": "stream",
       "stream": "stdout",
       "text": [
        "       ==> elapsed time to get all fine maps: 3.19690799713 sec\n",
        "[    INFO] ==> elapsed time for template: 3.62798404694 sec\n"
       ]
      },
      {
       "output_type": "stream",
       "stream": "stdout",
       "text": [
        "[    INFO] start oscillation calculation\n"
       ]
      },
      {
       "output_type": "stream",
       "stream": "stdout",
       "text": [
        "[    INFO] stop oscillation calculation\n"
       ]
      },
      {
       "output_type": "stream",
       "stream": "stdout",
       "text": [
        "       ==> elapsed time to get all fine maps: 3.27835893631 sec\n",
        "[    INFO] ==> elapsed time for template: 3.70714592934 sec\n"
       ]
      },
      {
       "output_type": "stream",
       "stream": "stdout",
       "text": [
        "[    INFO] start oscillation calculation\n"
       ]
      },
      {
       "output_type": "stream",
       "stream": "stdout",
       "text": [
        "[    INFO] stop oscillation calculation\n"
       ]
      },
      {
       "output_type": "stream",
       "stream": "stdout",
       "text": [
        "       ==> elapsed time to get all fine maps: 3.33004307747 sec\n",
        "[    INFO] ==> elapsed time for template: 3.75711488724 sec\n"
       ]
      },
      {
       "output_type": "stream",
       "stream": "stdout",
       "text": [
        "[    INFO] start oscillation calculation\n"
       ]
      },
      {
       "output_type": "stream",
       "stream": "stdout",
       "text": [
        "[    INFO] stop oscillation calculation\n"
       ]
      },
      {
       "output_type": "stream",
       "stream": "stdout",
       "text": [
        "       ==> elapsed time to get all fine maps: 3.30057477951 sec\n",
        "[    INFO] ==> elapsed time for template: 3.73583006859 sec\n"
       ]
      },
      {
       "output_type": "stream",
       "stream": "stdout",
       "text": [
        "[    INFO] start oscillation calculation\n"
       ]
      },
      {
       "output_type": "stream",
       "stream": "stdout",
       "text": [
        "[    INFO] stop oscillation calculation\n"
       ]
      },
      {
       "output_type": "stream",
       "stream": "stdout",
       "text": [
        "       ==> elapsed time to get all fine maps: 3.23445105553 sec\n",
        "[    INFO] ==> elapsed time for template: 3.65995597839 sec\n"
       ]
      },
      {
       "output_type": "stream",
       "stream": "stdout",
       "text": [
        "[    INFO] start oscillation calculation\n"
       ]
      },
      {
       "output_type": "stream",
       "stream": "stdout",
       "text": [
        "[    INFO] stop oscillation calculation\n"
       ]
      },
      {
       "output_type": "stream",
       "stream": "stdout",
       "text": [
        "       ==> elapsed time to get all fine maps: 3.24991893768 sec\n",
        "[    INFO] ==> elapsed time for template: 3.69375109673 sec\n"
       ]
      },
      {
       "output_type": "stream",
       "stream": "stdout",
       "text": [
        "[    INFO] start oscillation calculation\n"
       ]
      },
      {
       "output_type": "stream",
       "stream": "stdout",
       "text": [
        "[    INFO] stop oscillation calculation\n"
       ]
      },
      {
       "output_type": "stream",
       "stream": "stdout",
       "text": [
        "       ==> elapsed time to get all fine maps: 3.19614386559 sec\n",
        "[    INFO] ==> elapsed time for template: 3.64229393005 sec\n"
       ]
      },
      {
       "output_type": "stream",
       "stream": "stdout",
       "text": [
        "[    INFO] start oscillation calculation\n"
       ]
      },
      {
       "output_type": "stream",
       "stream": "stdout",
       "text": [
        "[    INFO] stop oscillation calculation\n"
       ]
      },
      {
       "output_type": "stream",
       "stream": "stdout",
       "text": [
        "       ==> elapsed time to get all fine maps: 3.18776106834 sec\n",
        "[    INFO] ==> elapsed time for template: 3.63507795334 sec\n"
       ]
      },
      {
       "output_type": "stream",
       "stream": "stdout",
       "text": [
        "[    INFO] start oscillation calculation\n"
       ]
      },
      {
       "output_type": "stream",
       "stream": "stdout",
       "text": [
        "[    INFO] stop oscillation calculation\n"
       ]
      },
      {
       "output_type": "stream",
       "stream": "stdout",
       "text": [
        "       ==> elapsed time to get all fine maps: 3.17051911354 sec\n",
        "[    INFO] ==> elapsed time for template: 3.6184720993 sec\n"
       ]
      },
      {
       "output_type": "stream",
       "stream": "stdout",
       "text": [
        "[    INFO] start oscillation calculation\n"
       ]
      },
      {
       "output_type": "stream",
       "stream": "stdout",
       "text": [
        "[    INFO] stop oscillation calculation\n"
       ]
      },
      {
       "output_type": "stream",
       "stream": "stdout",
       "text": [
        "       ==> elapsed time to get all fine maps: 3.17562294006 sec\n",
        "[    INFO] ==> elapsed time for template: 3.60842895508 sec\n"
       ]
      },
      {
       "output_type": "stream",
       "stream": "stdout",
       "text": [
        "[    INFO] start oscillation calculation\n"
       ]
      },
      {
       "output_type": "stream",
       "stream": "stdout",
       "text": [
        "[    INFO] stop oscillation calculation\n"
       ]
      },
      {
       "output_type": "stream",
       "stream": "stdout",
       "text": [
        "       ==> elapsed time to get all fine maps: 3.1757619381 sec\n",
        "[    INFO] ==> elapsed time for template: 3.62071895599 sec\n"
       ]
      },
      {
       "output_type": "stream",
       "stream": "stdout",
       "text": [
        "[    INFO] start oscillation calculation\n"
       ]
      },
      {
       "output_type": "stream",
       "stream": "stdout",
       "text": [
        "[    INFO] stop oscillation calculation\n"
       ]
      },
      {
       "output_type": "stream",
       "stream": "stdout",
       "text": [
        "       ==> elapsed time to get all fine maps: 3.18041396141 sec\n",
        "[    INFO] ==> elapsed time for template: 3.62504911423 sec\n"
       ]
      },
      {
       "output_type": "stream",
       "stream": "stdout",
       "text": [
        "[    INFO] start oscillation calculation\n"
       ]
      },
      {
       "output_type": "stream",
       "stream": "stdout",
       "text": [
        "[    INFO] stop oscillation calculation\n"
       ]
      },
      {
       "output_type": "stream",
       "stream": "stdout",
       "text": [
        "       ==> elapsed time to get all fine maps: 3.22941613197 sec\n",
        "[    INFO] ==> elapsed time for template: 3.75095009804 sec\n"
       ]
      },
      {
       "output_type": "stream",
       "stream": "stdout",
       "text": [
        "[    INFO] start oscillation calculation\n"
       ]
      },
      {
       "output_type": "stream",
       "stream": "stdout",
       "text": [
        "[    INFO] stop oscillation calculation\n"
       ]
      },
      {
       "output_type": "stream",
       "stream": "stdout",
       "text": [
        "       ==> elapsed time to get all fine maps: 3.36705708504 sec\n",
        "[    INFO] ==> elapsed time for template: 3.81703209877 sec\n"
       ]
      },
      {
       "output_type": "stream",
       "stream": "stdout",
       "text": [
        "[    INFO] start oscillation calculation\n"
       ]
      },
      {
       "output_type": "stream",
       "stream": "stdout",
       "text": [
        "[    INFO] stop oscillation calculation\n"
       ]
      },
      {
       "output_type": "stream",
       "stream": "stdout",
       "text": [
        "       ==> elapsed time to get all fine maps: 3.20129203796 sec\n",
        "[    INFO] ==> elapsed time for template: 3.64594602585 sec\n"
       ]
      },
      {
       "output_type": "stream",
       "stream": "stdout",
       "text": [
        "[    INFO] start oscillation calculation\n"
       ]
      },
      {
       "output_type": "stream",
       "stream": "stdout",
       "text": [
        "[    INFO] stop oscillation calculation\n"
       ]
      },
      {
       "output_type": "stream",
       "stream": "stdout",
       "text": [
        "       ==> elapsed time to get all fine maps: 3.19624519348 sec\n",
        "[    INFO] ==> elapsed time for template: 3.62827014923 sec\n"
       ]
      },
      {
       "output_type": "stream",
       "stream": "stdout",
       "text": [
        "[    INFO] start oscillation calculation\n"
       ]
      },
      {
       "output_type": "stream",
       "stream": "stdout",
       "text": [
        "[    INFO] stop oscillation calculation\n"
       ]
      },
      {
       "output_type": "stream",
       "stream": "stdout",
       "text": [
        "       ==> elapsed time to get all fine maps: 3.18689203262 sec\n",
        "[    INFO] ==> elapsed time for template: 3.63635087013 sec\n"
       ]
      },
      {
       "output_type": "stream",
       "stream": "stdout",
       "text": [
        "[    INFO] start oscillation calculation\n"
       ]
      },
      {
       "output_type": "stream",
       "stream": "stdout",
       "text": [
        "[    INFO] stop oscillation calculation\n"
       ]
      },
      {
       "output_type": "stream",
       "stream": "stdout",
       "text": [
        "       ==> elapsed time to get all fine maps: 3.18786692619 sec\n",
        "[    INFO] ==> elapsed time for template: 3.61792206764 sec\n"
       ]
      },
      {
       "output_type": "stream",
       "stream": "stdout",
       "text": [
        "[    INFO] start oscillation calculation\n"
       ]
      },
      {
       "output_type": "stream",
       "stream": "stdout",
       "text": [
        "[    INFO] stop oscillation calculation\n"
       ]
      },
      {
       "output_type": "stream",
       "stream": "stdout",
       "text": [
        "       ==> elapsed time to get all fine maps: 3.17520594597 sec\n",
        "[    INFO] ==> elapsed time for template: 3.62407898903 sec\n"
       ]
      },
      {
       "output_type": "stream",
       "stream": "stdout",
       "text": [
        "[    INFO] start oscillation calculation\n"
       ]
      },
      {
       "output_type": "stream",
       "stream": "stdout",
       "text": [
        "[    INFO] stop oscillation calculation\n"
       ]
      },
      {
       "output_type": "stream",
       "stream": "stdout",
       "text": [
        "       ==> elapsed time to get all fine maps: 3.18794798851 sec\n",
        "[    INFO] ==> elapsed time for template: 3.636977911 sec\n"
       ]
      },
      {
       "output_type": "stream",
       "stream": "stdout",
       "text": [
        "[    INFO] start oscillation calculation\n"
       ]
      },
      {
       "output_type": "stream",
       "stream": "stdout",
       "text": [
        "[    INFO] stop oscillation calculation\n"
       ]
      },
      {
       "output_type": "stream",
       "stream": "stdout",
       "text": [
        "       ==> elapsed time to get all fine maps: 3.18999195099 sec\n",
        "[    INFO] ==> elapsed time for template: 3.63267993927 sec\n"
       ]
      },
      {
       "output_type": "stream",
       "stream": "stdout",
       "text": [
        "[    INFO] start oscillation calculation\n"
       ]
      },
      {
       "output_type": "stream",
       "stream": "stdout",
       "text": [
        "[    INFO] stop oscillation calculation\n"
       ]
      },
      {
       "output_type": "stream",
       "stream": "stdout",
       "text": [
        "       ==> elapsed time to get all fine maps: 3.27632308006 sec\n",
        "[    INFO] ==> elapsed time for template: 3.71860194206 sec\n"
       ]
      },
      {
       "output_type": "stream",
       "stream": "stdout",
       "text": [
        "[    INFO] start oscillation calculation\n"
       ]
      },
      {
       "output_type": "stream",
       "stream": "stdout",
       "text": [
        "[    INFO] stop oscillation calculation\n"
       ]
      },
      {
       "output_type": "stream",
       "stream": "stdout",
       "text": [
        "       ==> elapsed time to get all fine maps: 3.22610998154 sec\n",
        "[    INFO] ==> elapsed time for template: 3.67240190506 sec\n"
       ]
      },
      {
       "output_type": "stream",
       "stream": "stdout",
       "text": [
        "[    INFO] start oscillation calculation\n"
       ]
      },
      {
       "output_type": "stream",
       "stream": "stdout",
       "text": [
        "[    INFO] stop oscillation calculation\n"
       ]
      },
      {
       "output_type": "stream",
       "stream": "stdout",
       "text": [
        "       ==> elapsed time to get all fine maps: 3.22794914246 sec\n",
        "[    INFO] ==> elapsed time for template: 3.66352796555 sec\n"
       ]
      },
      {
       "output_type": "stream",
       "stream": "stdout",
       "text": [
        "[    INFO] start oscillation calculation\n"
       ]
      },
      {
       "output_type": "stream",
       "stream": "stdout",
       "text": [
        "[    INFO] stop oscillation calculation\n"
       ]
      },
      {
       "output_type": "stream",
       "stream": "stdout",
       "text": [
        "       ==> elapsed time to get all fine maps: 3.23018479347 sec\n",
        "[    INFO] ==> elapsed time for template: 3.67351698875 sec\n"
       ]
      },
      {
       "output_type": "stream",
       "stream": "stdout",
       "text": [
        "[    INFO] start oscillation calculation\n"
       ]
      },
      {
       "output_type": "stream",
       "stream": "stdout",
       "text": [
        "[    INFO] stop oscillation calculation\n"
       ]
      },
      {
       "output_type": "stream",
       "stream": "stdout",
       "text": [
        "       ==> elapsed time to get all fine maps: 3.21214199066 sec\n",
        "[    INFO] ==> elapsed time for template: 3.66349101067 sec\n"
       ]
      },
      {
       "output_type": "stream",
       "stream": "stdout",
       "text": [
        "[    INFO] start oscillation calculation\n"
       ]
      },
      {
       "output_type": "stream",
       "stream": "stdout",
       "text": [
        "[    INFO] stop oscillation calculation\n"
       ]
      },
      {
       "output_type": "stream",
       "stream": "stdout",
       "text": [
        "       ==> elapsed time to get all fine maps: 3.21580696106 sec\n",
        "[    INFO] ==> elapsed time for template: 3.66782689095 sec\n"
       ]
      },
      {
       "output_type": "stream",
       "stream": "stdout",
       "text": [
        "[    INFO] start oscillation calculation\n"
       ]
      },
      {
       "output_type": "stream",
       "stream": "stdout",
       "text": [
        "[    INFO] stop oscillation calculation\n"
       ]
      },
      {
       "output_type": "stream",
       "stream": "stdout",
       "text": [
        "       ==> elapsed time to get all fine maps: 3.21688914299 sec\n",
        "[    INFO] ==> elapsed time for template: 3.66705703735 sec\n"
       ]
      },
      {
       "output_type": "stream",
       "stream": "stdout",
       "text": [
        "[    INFO] start oscillation calculation\n"
       ]
      },
      {
       "output_type": "stream",
       "stream": "stdout",
       "text": [
        "[    INFO] stop oscillation calculation\n"
       ]
      },
      {
       "output_type": "stream",
       "stream": "stdout",
       "text": [
        "       ==> elapsed time to get all fine maps: 3.21765398979 sec\n",
        "[    INFO] ==> elapsed time for template: 3.66942000389 sec\n"
       ]
      },
      {
       "output_type": "stream",
       "stream": "stdout",
       "text": [
        "[    INFO] start oscillation calculation\n"
       ]
      },
      {
       "output_type": "stream",
       "stream": "stdout",
       "text": [
        "[    INFO] stop oscillation calculation\n"
       ]
      },
      {
       "output_type": "stream",
       "stream": "stdout",
       "text": [
        "       ==> elapsed time to get all fine maps: 3.21734309196 sec\n",
        "[    INFO] ==> elapsed time for template: 3.66984295845 sec\n"
       ]
      },
      {
       "output_type": "stream",
       "stream": "stdout",
       "text": [
        "[    INFO] start oscillation calculation\n"
       ]
      },
      {
       "output_type": "stream",
       "stream": "stdout",
       "text": [
        "[    INFO] stop oscillation calculation\n"
       ]
      },
      {
       "output_type": "stream",
       "stream": "stdout",
       "text": [
        "       ==> elapsed time to get all fine maps: 3.21433711052 sec\n",
        "[    INFO] ==> elapsed time for template: 3.64946317673 sec\n"
       ]
      },
      {
       "output_type": "stream",
       "stream": "stdout",
       "text": [
        "[    INFO] start oscillation calculation\n"
       ]
      },
      {
       "output_type": "stream",
       "stream": "stdout",
       "text": [
        "[    INFO] stop oscillation calculation\n"
       ]
      },
      {
       "output_type": "stream",
       "stream": "stdout",
       "text": [
        "       ==> elapsed time to get all fine maps: 3.23600292206 sec\n",
        "[    INFO] ==> elapsed time for template: 3.68255376816 sec\n"
       ]
      },
      {
       "output_type": "stream",
       "stream": "stdout",
       "text": [
        "[    INFO] start oscillation calculation\n"
       ]
      },
      {
       "output_type": "stream",
       "stream": "stdout",
       "text": [
        "[    INFO] stop oscillation calculation\n"
       ]
      },
      {
       "output_type": "stream",
       "stream": "stdout",
       "text": [
        "       ==> elapsed time to get all fine maps: 3.23421788216 sec\n",
        "[    INFO] ==> elapsed time for template: 3.68602991104 sec\n"
       ]
      },
      {
       "output_type": "stream",
       "stream": "stdout",
       "text": [
        "[    INFO] start oscillation calculation\n"
       ]
      },
      {
       "output_type": "stream",
       "stream": "stdout",
       "text": [
        "[    INFO] stop oscillation calculation\n"
       ]
      },
      {
       "output_type": "stream",
       "stream": "stdout",
       "text": [
        "       ==> elapsed time to get all fine maps: 3.23022699356 sec\n",
        "[    INFO] ==> elapsed time for template: 3.68066596985 sec\n"
       ]
      },
      {
       "output_type": "stream",
       "stream": "stdout",
       "text": [
        "[    INFO] start oscillation calculation\n"
       ]
      },
      {
       "output_type": "stream",
       "stream": "stdout",
       "text": [
        "[    INFO] stop oscillation calculation\n"
       ]
      },
      {
       "output_type": "stream",
       "stream": "stdout",
       "text": [
        "       ==> elapsed time to get all fine maps: 3.19248700142 sec\n",
        "[    INFO] ==> elapsed time for template: 3.6397061348 sec\n"
       ]
      },
      {
       "output_type": "stream",
       "stream": "stdout",
       "text": [
        "[    INFO] start oscillation calculation\n"
       ]
      },
      {
       "output_type": "stream",
       "stream": "stdout",
       "text": [
        "[    INFO] stop oscillation calculation\n"
       ]
      },
      {
       "output_type": "stream",
       "stream": "stdout",
       "text": [
        "       ==> elapsed time to get all fine maps: 3.21616601944 sec\n",
        "[    INFO] ==> elapsed time for template: 3.66818499565 sec\n"
       ]
      },
      {
       "output_type": "stream",
       "stream": "stdout",
       "text": [
        "[    INFO] start oscillation calculation\n"
       ]
      },
      {
       "output_type": "stream",
       "stream": "stdout",
       "text": [
        "[    INFO] stop oscillation calculation\n"
       ]
      },
      {
       "output_type": "stream",
       "stream": "stdout",
       "text": [
        "       ==> elapsed time to get all fine maps: 3.2021548748 sec\n",
        "[    INFO] ==> elapsed time for template: 3.64966082573 sec\n"
       ]
      },
      {
       "output_type": "stream",
       "stream": "stdout",
       "text": [
        "[    INFO] start oscillation calculation\n"
       ]
      },
      {
       "output_type": "stream",
       "stream": "stdout",
       "text": [
        "[    INFO] stop oscillation calculation\n"
       ]
      },
      {
       "output_type": "stream",
       "stream": "stdout",
       "text": [
        "       ==> elapsed time to get all fine maps: 3.32571411133 sec\n",
        "[    INFO] ==> elapsed time for template: 3.77855086327 sec\n"
       ]
      },
      {
       "output_type": "stream",
       "stream": "stdout",
       "text": [
        "[    INFO] start oscillation calculation\n"
       ]
      },
      {
       "output_type": "stream",
       "stream": "stdout",
       "text": [
        "[    INFO] stop oscillation calculation\n"
       ]
      },
      {
       "output_type": "stream",
       "stream": "stdout",
       "text": [
        "       ==> elapsed time to get all fine maps: 3.2149848938 sec\n",
        "[    INFO] ==> elapsed time for template: 3.66210913658 sec\n"
       ]
      },
      {
       "output_type": "stream",
       "stream": "stdout",
       "text": [
        "[    INFO] start oscillation calculation\n"
       ]
      },
      {
       "output_type": "stream",
       "stream": "stdout",
       "text": [
        "[    INFO] stop oscillation calculation\n"
       ]
      },
      {
       "output_type": "stream",
       "stream": "stdout",
       "text": [
        "       ==> elapsed time to get all fine maps: 3.20977807045 sec\n",
        "[    INFO] ==> elapsed time for template: 3.65936112404 sec\n"
       ]
      },
      {
       "output_type": "stream",
       "stream": "stdout",
       "text": [
        "[    INFO] start oscillation calculation\n"
       ]
      },
      {
       "output_type": "stream",
       "stream": "stdout",
       "text": [
        "[    INFO] stop oscillation calculation\n"
       ]
      },
      {
       "output_type": "stream",
       "stream": "stdout",
       "text": [
        "       ==> elapsed time to get all fine maps: 3.2088561058 sec\n",
        "[    INFO] ==> elapsed time for template: 3.65662717819 sec\n"
       ]
      }
     ],
     "prompt_number": 3
    },
    {
     "cell_type": "markdown",
     "metadata": {},
     "source": [
      "Print the mass hierarchy significances and impacts + uncertainties of the different systematics:"
     ]
    },
    {
     "cell_type": "code",
     "collapsed": false,
     "input": [
      "for data in fisher:\n",
      "    for channel in fisher[data]:\n",
      "        print \"%s, %s: hierarchy significance (sigma): %.2f \\n\"%(data,channel,1./fisher[data][channel].getSigma('hierarchy'))\n",
      "        fisher[data][channel].printResultsSorted('hierarchy',latex=False)\n",
      "        print \"\\n\""
     ],
     "language": "python",
     "metadata": {},
     "outputs": [
      {
       "output_type": "stream",
       "stream": "stdout",
       "text": [
        "IMH, comb: hierarchy significance (sigma): 1.67 \n",
        "\n",
        "     parameter     impact [%]      best fit          full          stat          syst        priors\n",
        "---------------------------------------------------------------------------------------------------\n",
        "     hierarchy          100.0     1.000e+00     5.991e-01     4.330e-01     4.140e-01     free\n",
        "      deltam31           25.4     2.460e-03     6.091e-05     3.728e-05     8.622e-05     8.000e-05\n",
        "           YeO           13.0     4.656e-01     2.200e-01     1.772e-01     1.304e-01     free\n",
        "  energy_scale            4.7     1.000e+00     2.022e-02     1.932e-03     2.202e-02     5.000e-02\n",
        "    aeff_scale            3.4     1.000e+00     3.924e-02     3.703e-03     3.907e-02     free\n",
        "       theta13            3.1     1.559e-01     8.138e-03     2.847e-02     1.013e-01     8.162e-03\n",
        "       theta23            1.9     6.745e-01     1.380e-02     8.748e-03     1.067e-02     free\n",
        "nue_numu_ratio            0.5     1.000e+00     2.336e-02     2.333e-02     2.903e-02     3.000e-02\n",
        "           YeI            0.1     4.656e-01     3.325e+11     2.727e+11     1.903e+11     free\n",
        "nu_nubar_ratio            0.0     1.000e+00     1.000e-01     2.957e+12     1.237e+12     1.000e-01\n",
        "\n",
        "\n",
        "IMH, trck: hierarchy significance (sigma): 0.73 \n",
        "\n",
        "     parameter     impact [%]      best fit          full          stat          syst        priors\n",
        "---------------------------------------------------------------------------------------------------\n",
        "     hierarchy          100.0     1.000e+00     1.377e+00     6.203e-01     1.230e+00     free\n",
        "  energy_scale           33.4     1.000e+00     3.561e-02     3.769e-03     5.060e-02     5.000e-02\n",
        "    aeff_scale           29.1     1.000e+00     6.597e-02     7.143e-03     6.558e-02     free\n",
        "       theta23           15.7     6.745e-01     1.926e-02     9.734e-03     1.662e-02     free\n",
        "      deltam31           10.1     2.460e-03     6.852e-05     3.948e-05     1.267e-04     8.000e-05\n",
        "           YeO            8.2     4.656e-01     3.440e-01     3.156e-01     1.369e-01     free\n",
        "       theta13            1.2     1.559e-01     8.160e-03     3.175e-02     4.093e-01     8.162e-03\n",
        "nue_numu_ratio            0.5     1.000e+00     2.787e-02     5.439e-02     5.215e-02     3.000e-02\n",
        "           YeI            0.2     4.656e-01     6.618e+11     5.340e+11     3.910e+11     free\n",
        "nu_nubar_ratio            0.0     1.000e+00     1.000e-01     5.034e+12     1.762e+12     1.000e-01\n",
        "\n",
        "\n",
        "IMH, cscd: hierarchy significance (sigma): 0.88 \n",
        "\n",
        "     parameter     impact [%]      best fit          full          stat          syst        priors\n",
        "---------------------------------------------------------------------------------------------------\n",
        "     hierarchy          100.0     1.000e+00     1.143e+00     6.047e-01     9.695e-01     free\n",
        "       theta23           49.5     6.745e-01     7.416e-02     1.995e-02     7.142e-02     free\n",
        "           YeO           17.1     4.656e-01     3.017e-01     2.142e-01     2.126e-01     free\n",
        "    aeff_scale           10.2     1.000e+00     7.286e-02     4.331e-03     7.273e-02     free\n",
        "  energy_scale            4.1     1.000e+00     3.279e-02     2.251e-03     4.338e-02     5.000e-02\n",
        "nue_numu_ratio            0.6     1.000e+00     2.882e-02     2.582e-02     1.004e-01     3.000e-02\n",
        "       theta13            0.5     1.559e-01     8.157e-03     6.434e-02     2.161e-01     8.162e-03\n",
        "      deltam31            0.3     2.460e-03     7.125e-05     1.134e-04     1.082e-04     8.000e-05\n",
        "           YeI            0.0     4.656e-01     3.848e+11     3.172e+11     2.178e+11     free\n",
        "nu_nubar_ratio            0.0     1.000e+00     1.000e-01     3.654e+12     1.656e+12     1.000e-01\n",
        "\n",
        "\n"
       ]
      }
     ],
     "prompt_number": 4
    },
    {
     "cell_type": "markdown",
     "metadata": {},
     "source": [
      "For .json files containing Fisher matrices, create Fisher matrix objects via the built-in method FisherMatrix.fromFile(\"/path/to/Fisher/matrix/file\") and proceed as shown above."
     ]
    },
    {
     "cell_type": "code",
     "collapsed": false,
     "input": [],
     "language": "python",
     "metadata": {},
     "outputs": []
    }
   ],
   "metadata": {}
  }
 ]
}